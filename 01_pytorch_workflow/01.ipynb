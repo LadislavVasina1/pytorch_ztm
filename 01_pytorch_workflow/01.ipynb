{
 "cells": [
  {
   "attachments": {},
   "cell_type": "markdown",
   "metadata": {},
   "source": [
    "# PyTorch workflow\n",
    "https://www.learnpytorch.io/01_pytorch_workflow/"
   ]
  },
  {
   "cell_type": "code",
   "execution_count": 1,
   "metadata": {},
   "outputs": [],
   "source": [
    "what_were_covering = {\n",
    "    1: \"data (prepare and load)\",\n",
    "    2: \"build a model\",\n",
    "    3: \"fitting the model to data (training)\",\n",
    "    4: \"making predictions and evaluating a model (inference)\",\n",
    "    5: \"saving and loading a model\",\n",
    "    6: \"putting it all together\"    ,\n",
    "}"
   ]
  },
  {
   "cell_type": "code",
   "execution_count": 2,
   "metadata": {},
   "outputs": [
    {
     "data": {
      "text/plain": [
       "'2.0.0+cu117'"
      ]
     },
     "execution_count": 2,
     "metadata": {},
     "output_type": "execute_result"
    }
   ],
   "source": [
    "import torch\n",
    "from torch import nn #* nn contains all of PyTorch's neural network building blocks\n",
    "import matplotlib.pyplot as plt\n",
    "\n",
    "torch.__version__"
   ]
  },
  {
   "attachments": {},
   "cell_type": "markdown",
   "metadata": {},
   "source": [
    "## Data (preparing and loading)\n",
    "\n",
    "Data can be almost anything... in machine learing\n",
    "* Excel sheet\n",
    "* Images\n",
    "* Videos\n",
    "* Audio\n",
    "* DNA\n",
    "* Text\n",
    "* etc...\n",
    "\n",
    "Machine learing is a game of two parts:\n",
    "1. Get data into a numerical representaion.\n",
    "2. Build a model to learn patterns in that numerical representation.\n",
    "\n",
    "To showcase this, let's create some *known* data using linear regression.\n",
    "\n",
    "We'll use a linear regression formula to make a straight line with known **parameters**."
   ]
  },
  {
   "cell_type": "code",
   "execution_count": 3,
   "metadata": {},
   "outputs": [
    {
     "data": {
      "text/plain": [
       "(tensor([[0.0000],\n",
       "         [0.0200],\n",
       "         [0.0400],\n",
       "         [0.0600],\n",
       "         [0.0800],\n",
       "         [0.1000],\n",
       "         [0.1200],\n",
       "         [0.1400],\n",
       "         [0.1600],\n",
       "         [0.1800]]),\n",
       " tensor([[0.3000],\n",
       "         [0.3140],\n",
       "         [0.3280],\n",
       "         [0.3420],\n",
       "         [0.3560],\n",
       "         [0.3700],\n",
       "         [0.3840],\n",
       "         [0.3980],\n",
       "         [0.4120],\n",
       "         [0.4260]]))"
      ]
     },
     "execution_count": 3,
     "metadata": {},
     "output_type": "execute_result"
    }
   ],
   "source": [
    "# Create *known* parameters\n",
    "weight = 0.7\n",
    "bias = 0.3\n",
    "\n",
    "# Create\n",
    "start = 0\n",
    "end = 1\n",
    "step = 0.02\n",
    "X = torch.arange(start, end, step).unsqueeze(dim=1)\n",
    "y = weight * X + bias\n",
    "\n",
    "X[:10], y[:10]"
   ]
  },
  {
   "attachments": {},
   "cell_type": "markdown",
   "metadata": {},
   "source": [
    "### Splitting data into training and validation/test sets"
   ]
  },
  {
   "cell_type": "code",
   "execution_count": 4,
   "metadata": {},
   "outputs": [
    {
     "data": {
      "text/plain": [
       "(torch.Size([40, 1]),\n",
       " torch.Size([40, 1]),\n",
       " torch.Size([10, 1]),\n",
       " torch.Size([10, 1]))"
      ]
     },
     "execution_count": 4,
     "metadata": {},
     "output_type": "execute_result"
    }
   ],
   "source": [
    "train_split = int(0.8 * len(X))\n",
    "X_train, y_train = X[:train_split], y[:train_split]\n",
    "X_test, y_test = X[train_split:], y[train_split:]\n",
    "\n",
    "X_train.shape, y_train.shape, X_test.shape, y_test.shape"
   ]
  },
  {
   "cell_type": "code",
   "execution_count": 5,
   "metadata": {},
   "outputs": [
    {
     "name": "stdout",
     "output_type": "stream",
     "text": [
      "tensor([[0.0000],\n",
      "        [0.0200],\n",
      "        [0.0400],\n",
      "        [0.0600],\n",
      "        [0.0800],\n",
      "        [0.1000],\n",
      "        [0.1200],\n",
      "        [0.1400],\n",
      "        [0.1600],\n",
      "        [0.1800]]) tensor([[0.3000],\n",
      "        [0.3140],\n",
      "        [0.3280],\n",
      "        [0.3420],\n",
      "        [0.3560],\n",
      "        [0.3700],\n",
      "        [0.3840],\n",
      "        [0.3980],\n",
      "        [0.4120],\n",
      "        [0.4260]])\n",
      "tensor([[0.8000],\n",
      "        [0.8200],\n",
      "        [0.8400],\n",
      "        [0.8600],\n",
      "        [0.8800],\n",
      "        [0.9000],\n",
      "        [0.9200],\n",
      "        [0.9400],\n",
      "        [0.9600],\n",
      "        [0.9800]]) tensor([[0.8600],\n",
      "        [0.8740],\n",
      "        [0.8880],\n",
      "        [0.9020],\n",
      "        [0.9160],\n",
      "        [0.9300],\n",
      "        [0.9440],\n",
      "        [0.9580],\n",
      "        [0.9720],\n",
      "        [0.9860]])\n"
     ]
    }
   ],
   "source": [
    "print(X_train[:10], y_train[:10])\n",
    "print(X_test[:10], y_test[:10])"
   ]
  },
  {
   "cell_type": "code",
   "execution_count": 6,
   "metadata": {},
   "outputs": [
    {
     "data": {
      "image/png": "[encoded data removed]",
      "text/plain": [
       "<Figure size 600x300 with 1 Axes>"
      ]
     },
     "metadata": {},
     "output_type": "display_data"
    }
   ],
   "source": [
    "def plot_predictions(train_data=X_train, \n",
    "                     train_labels=y_train, \n",
    "                     test_data=X_test, \n",
    "                     test_labels=y_test, \n",
    "                     predictions=None):\n",
    "    \"\"\"\n",
    "    Plots training data, test data and compares predictions.\n",
    "    \"\"\"\n",
    "    plt.figure(figsize=(6, 3))\n",
    "    plt.scatter(train_data, train_labels, c=\"b\", s=4, label=\"Training data\")\n",
    "    plt.scatter(test_data, test_labels, c=\"g\", s=4, label=\"Testing data\")\n",
    "\n",
    "    if predictions is not None:\n",
    "        plt.scatter(test_data, predictions, c=\"r\", s=4, label=\"Predictions\")\n",
    "    \n",
    "    plt.legend(prop={\"size\": 14})\n",
    "    plt.show()\n",
    "\n",
    "plot_predictions()"
   ]
  },
  {
   "cell_type": "markdown",
   "metadata": {},
   "source": [
    "What our model does:\n",
    "* Start with random weights and bias\n",
    "* Look at training data and adjust the random values to better represent (or get closer to)\n",
    "the ideal values (the weight & bias values we used to create the data)\n",
    "\n",
    "How does it do so?\n",
    "1. Gradient descent\n",
    "2. Backpropagation\n"
   ]
  },
  {
   "cell_type": "code",
   "execution_count": 7,
   "metadata": {},
   "outputs": [],
   "source": [
    "## 2. Building our model\n",
    "\n",
    "class LinearRegressionModel(nn.Module):\n",
    "    def __init__(self):\n",
    "        super().__init__()\n",
    "        self.weights = nn.Parameter(torch.randn(1,\n",
    "                                                dtype=torch.float32,\n",
    "                                                requires_grad=True))\n",
    "        self.bias = nn.Parameter(torch.randn(1,\n",
    "                                            dtype=torch.float32,\n",
    "                                            requires_grad=True))\n",
    "    # Forward defines the computation in the model\n",
    "    def forward(self, x: torch.Tensor) -> torch.Tensor: # <- \"x\" is the input data (e.g. training/testing features)\n",
    "        return self.weights * x + self.bias  # <- this is the linear regression formula (y = m*x + b)\n",
    "           "
   ]
  },
  {
   "attachments": {},
   "cell_type": "markdown",
   "metadata": {},
   "source": [
    "### PyTorch model builing essentials\n",
    "| PyTorch module | What does it do? |\n",
    "| ----- | ----- |\n",
    "| [`torch.nn`](https://pytorch.org/docs/stable/nn.html) | Contains all of the building blocks for computational graphs (essentially a series of computations executed in a particular way). |\n",
    "| [`torch.nn.Parameter`](https://pytorch.org/docs/stable/generated/torch.nn.parameter.Parameter.html#parameter) | Stores tensors that can be used with `nn.Module`. If `requires_grad=True` gradients (used for updating model parameters via [**gradient descent**](https://ml-cheatsheet.readthedocs.io/en/latest/gradient_descent.html))  are calculated automatically, this is often referred to as \"autograd\".  | \n",
    "| [`torch.nn.Module`](https://pytorch.org/docs/stable/generated/torch.nn.Module.html#torch.nn.Module) | The base class for all neural network modules, all the building blocks for neural networks are subclasses. If you're building a neural network in PyTorch, your models should subclass `nn.Module`. Requires a `forward()` method be implemented. | \n",
    "| [`torch.optim`](https://pytorch.org/docs/stable/optim.html) | Contains various optimization algorithms (these tell the model parameters stored in `nn.Parameter` how to best change to improve gradient descent and in turn reduce the loss). | \n",
    "| `def forward()` | All `nn.Module` subclasses require a `forward()` method, this defines the computation that will take place on the data passed to the particular `nn.Module` (e.g. the linear regression formula above). |"
   ]
  },
  {
   "attachments": {},
   "cell_type": "markdown",
   "metadata": {},
   "source": [
    "### Checking the contents of our PyTorch model\n",
    "We can check our model parameters or see what's inside using `.parameters()`"
   ]
  },
  {
   "cell_type": "code",
   "execution_count": 8,
   "metadata": {},
   "outputs": [
    {
     "data": {
      "text/plain": [
       "[Parameter containing:\n",
       " tensor([0.3367], requires_grad=True),\n",
       " Parameter containing:\n",
       " tensor([0.1288], requires_grad=True)]"
      ]
     },
     "execution_count": 8,
     "metadata": {},
     "output_type": "execute_result"
    }
   ],
   "source": [
    "# Create a random seed\n",
    "torch.manual_seed(42)\n",
    "\n",
    "# Create an instance of the model (this is a subclass of nn.Module)\n",
    "model_0 = LinearRegressionModel()\n",
    "\n",
    "list(model_0.parameters())"
   ]
  },
  {
   "cell_type": "code",
   "execution_count": 9,
   "metadata": {},
   "outputs": [
    {
     "data": {
      "text/plain": [
       "OrderedDict([('weights', tensor([0.3367])), ('bias', tensor([0.1288]))])"
      ]
     },
     "execution_count": 9,
     "metadata": {},
     "output_type": "execute_result"
    }
   ],
   "source": [
    "# List named parameters\n",
    "model_0.state_dict()"
   ]
  },
  {
   "attachments": {},
   "cell_type": "markdown",
   "metadata": {},
   "source": [
    "### Making predictions using `touch.inference_mode()`\n",
    "\n",
    "To check our model's predictive power, let's see how well it predicts `y_test` based on `X_test`.\n",
    "\n",
    "When we pass data through outr model it's gonna arun it through the `forward()` method."
   ]
  },
  {
   "cell_type": "code",
   "execution_count": 10,
   "metadata": {},
   "outputs": [
    {
     "data": {
      "text/plain": [
       "(tensor([[0.3982],\n",
       "         [0.4049],\n",
       "         [0.4116],\n",
       "         [0.4184],\n",
       "         [0.4251],\n",
       "         [0.4318],\n",
       "         [0.4386],\n",
       "         [0.4453],\n",
       "         [0.4520],\n",
       "         [0.4588]]),\n",
       " tensor([[0.8600],\n",
       "         [0.8740],\n",
       "         [0.8880],\n",
       "         [0.9020],\n",
       "         [0.9160],\n",
       "         [0.9300],\n",
       "         [0.9440],\n",
       "         [0.9580],\n",
       "         [0.9720],\n",
       "         [0.9860]]))"
      ]
     },
     "execution_count": 10,
     "metadata": {},
     "output_type": "execute_result"
    }
   ],
   "source": [
    "# Make predictions with model\n",
    "with torch.inference_mode():\n",
    "    y_pred = model_0(X_test)\n",
    "\n",
    "y_pred, y_test"
   ]
  },
  {
   "cell_type": "code",
   "execution_count": 11,
   "metadata": {},
   "outputs": [
    {
     "data": {
      "image/png": "[encoded data removed]",
      "text/plain": [
       "<Figure size 600x300 with 1 Axes>"
      ]
     },
     "metadata": {},
     "output_type": "display_data"
    }
   ],
   "source": [
    "plot_predictions(predictions=y_pred)"
   ]
  },
  {
   "attachments": {},
   "cell_type": "markdown",
   "metadata": {},
   "source": [
    "## 3. Training a model\n",
    "\n",
    "One way to measure how wrong your models predixctions are to use aloss function.\n",
    "\n",
    "* Note: Loss functions may also be called cost function or criterion in different areas.\n",
    "\n",
    "### Things we need to train:\n",
    "\n",
    "* **Loss function:** A function that measures how wrong the model's predictions are compared to the ideal values.\n",
    "https://pytorch.org/docs/stable/nn.html#loss-functions\n",
    "* **Optimizer:** Takes into account the losss of a model and adjust the model's parameters (e.g. weights and bias) to improve the loss function.\n",
    "https://pytorch.org/docs/stable/optim.html\n",
    "  *  Inside the optimzer you'll oftenhave toi set wwo parameters:\n",
    "     *  `param`: The model parameters to optimize, for example `model_0.parameters()`\n",
    "     *  `lr` (learning rate): The rate at which the optimizer will update the model parameters, a higher learning rate will cause the model to learn faster but may also cause the model to learn less accurately.\n",
    "\n",
    "And specifically for PyTorch we need:\n",
    "* A training loop\n",
    "* A testing loop\n",
    "\n"
   ]
  },
  {
   "cell_type": "code",
   "execution_count": 12,
   "metadata": {},
   "outputs": [
    {
     "data": {
      "text/plain": [
       "OrderedDict([('weights', tensor([0.3367])), ('bias', tensor([0.1288]))])"
      ]
     },
     "execution_count": 12,
     "metadata": {},
     "output_type": "execute_result"
    }
   ],
   "source": [
    "# Checkout our model's parameters (a parameter is a value that the mdoel sets itself)\n",
    "model_0.state_dict()"
   ]
  },
  {
   "cell_type": "code",
   "execution_count": 13,
   "metadata": {},
   "outputs": [],
   "source": [
    "# Setup a loss function \n",
    "loss_fn = nn.L1Loss()\n",
    "\n",
    "# Setup and optimizer\n",
    "optimizer = torch.optim.SGD(params=model_0.parameters(),\n",
    "                            lr=0.01)\n",
    "    # lr = learning rate = possibly rhe most important hyperparameter you can set\n",
    "#1e-1"
   ]
  },
  {
   "cell_type": "code",
   "execution_count": 14,
   "metadata": {},
   "outputs": [
    {
     "data": {
      "text/plain": [
       "L1Loss()"
      ]
     },
     "execution_count": 14,
     "metadata": {},
     "output_type": "execute_result"
    }
   ],
   "source": [
    "loss_fn"
   ]
  },
  {
   "attachments": {},
   "cell_type": "markdown",
   "metadata": {},
   "source": [
    "# Building a training  (and a testing) loop in PyTorch\n",
    "\n",
    "A couple of things we need in a training loop:\n",
    "\n",
    "0. Loop through the data and do...\n",
    "1. Forward pass (this involves moving data through our model's `forward()` method) to make predictions on data - also called forward propagation\n",
    "2. Calculate the loss (compare forward pass predictions to ground truth labels) \n",
    "3. Optimizer zero grad\n",
    "4. Loss backward - move backwards through the network to calculate the gradients of each of the parameters of our model with respect to the loss (**backpropagation**)\n",
    "5. Optimizer step - use the optimizer to adjust our model's parameters to improve the loss (**gradient descent**)"
   ]
  },
  {
   "cell_type": "code",
   "execution_count": 15,
   "metadata": {},
   "outputs": [
    {
     "name": "stdout",
     "output_type": "stream",
     "text": [
      "Epoch: 0 | Train loss: 0.31288138031959534 | Test loss: 0.48106518387794495\n",
      "Epoch: 50 | Train loss: 0.04167863354086876 | Test loss: 0.09919948130846024\n",
      "Epoch: 100 | Train loss: 0.024458957836031914 | Test loss: 0.05646304413676262\n",
      "Epoch: 150 | Train loss: 0.0072835334576666355 | Test loss: 0.016474086791276932\n",
      "OrderedDict([('weights', tensor([0.6990])), ('bias', tensor([0.3093]))])\n"
     ]
    }
   ],
   "source": [
    "torch.manual_seed(42)\n",
    "# An epoch is a full pass through the training data\n",
    "epochs = 200\n",
    "\n",
    "epoch_count = []\n",
    "loss_values = []\n",
    "test_loss_values = []\n",
    "\n",
    "#? Training\n",
    "#* 0. Loop through the data\n",
    "for epoch in range(epochs):\n",
    "    # Set the model to training mode\n",
    "    # train mode in PyTorchg sets all parameters that require gradients to require gradient\n",
    "    model_0.train()\n",
    "\n",
    "    #* 1. Forward pass\n",
    "    y_pred = model_0(X_train)\n",
    "    \n",
    "    #* 2. Calculate loss\n",
    "    loss = loss_fn(y_pred, y_train)\n",
    "    #print(f'Loss: {loss}')\n",
    "    #* 3. Optimizer zero grad\n",
    "    optimizer.zero_grad()\n",
    "\n",
    "    #* 4. Performe backpropagation on the loss with respect to the parameters of the model\n",
    "    loss.backward()\n",
    "\n",
    "    #* 5. Step the optimizer (perform gradient descent)\n",
    "    optimizer.step() \n",
    "    # by default how the optimizer changes will accumulate through the loop\n",
    "    # soo we have to zero them above in step 3  for the next iteration of the loop\n",
    "\n",
    "    model_0.eval() # Turns off different settings in the mdoel not needed for evaluation/testing (dropout/batchnorm)\n",
    "\n",
    "    with torch.inference_mode(): # Turns off gradient tracking & a couple more things behind the scenes\n",
    "    # with torch.no_grad(): OLD WAY    \n",
    "        #* 1. Forward pass\n",
    "        test_pred = model_0(X_test)\n",
    "\n",
    "        #* 2. Calculate the loss\n",
    "        test_loss = loss_fn(test_pred, y_test)\n",
    "\n",
    "    if epoch % 50 == 0:\n",
    "        epoch_count.append(epoch)\n",
    "        loss_values.append(loss)\n",
    "        test_loss_values.append(test_loss)\n",
    "        print(f\"Epoch: {epoch} | Train loss: {loss} | Test loss: {test_loss}\")\n",
    "\n",
    "\n",
    "print(model_0.state_dict())"
   ]
  },
  {
   "cell_type": "code",
   "execution_count": 16,
   "metadata": {},
   "outputs": [
    {
     "data": {
      "text/plain": [
       "<matplotlib.legend.Legend at 0x7f86715a86d0>"
      ]
     },
     "execution_count": 16,
     "metadata": {},
     "output_type": "execute_result"
    },
    {
     "data": {
      "image/png": "[encoded data removed]",
      "text/plain": [
       "<Figure size 640x480 with 1 Axes>"
      ]
     },
     "metadata": {},
     "output_type": "display_data"
    }
   ],
   "source": [
    "import numpy as np\n",
    "# Plot the loss curves\n",
    "plt.plot(epoch_count, np.array(torch.tensor(loss_values).cpu().numpy()), label=\"Train loss\")\n",
    "plt.plot(epoch_count, test_loss_values, label=\"Test loss\")\n",
    "plt.title(\"Training and test loss curve\")\n",
    "plt.ylabel(\"Loss\")\n",
    "plt.xlabel(\"Epochs\")\n",
    "plt.legend()"
   ]
  },
  {
   "cell_type": "code",
   "execution_count": 17,
   "metadata": {},
   "outputs": [
    {
     "data": {
      "image/png": "[encoded data removed]",
      "text/plain": [
       "<Figure size 600x300 with 1 Axes>"
      ]
     },
     "metadata": {},
     "output_type": "display_data"
    }
   ],
   "source": [
    "with torch.inference_mode():\n",
    "    y_preds_new = model_0(X_test)\n",
    "\n",
    "plot_predictions(predictions=y_preds_new)"
   ]
  },
  {
   "attachments": {},
   "cell_type": "markdown",
   "metadata": {},
   "source": [
    "### Saving model in PyTorch\n",
    "\n",
    "There are three main methods you should know about about for saving for saving and loading models in pYTorch.\n",
    "\n",
    "1. `torch.save()` - Allows you to save a PyTorch object in Python's pickle format.\n",
    "2. `torch.load()` - Allows you to load a saved PyTorch object from a file.\n",
    "3. `torch.nn.Module.load_state_dict()` - Allows you to load a model's saved state dictionary."
   ]
  },
  {
   "cell_type": "code",
   "execution_count": 18,
   "metadata": {},
   "outputs": [
    {
     "name": "stdout",
     "output_type": "stream",
     "text": [
      "Saving model to: ../models/01_pytorch_workflow_model_0.pth\n"
     ]
    }
   ],
   "source": [
    "# Saving our PyTorch model\n",
    "from pathlib import Path\n",
    "\n",
    "# 1. Create models directory\n",
    "MODEL_PATH = Path(\"../models\")\n",
    "MODEL_PATH.mkdir(parents=True, exist_ok=True)\n",
    "\n",
    "# 2. Create model save path\n",
    "MODEL_NAME = \"01_pytorch_workflow_model_0.pth\"\n",
    "MODEL_SAVE_PATH = MODEL_PATH / MODEL_NAME\n",
    "\n",
    "MODEL_SAVE_PATH\n",
    "\n",
    "# 3. Save the model state dict\n",
    "print(f\"Saving model to: {MODEL_SAVE_PATH}\")\n",
    "torch.save(obj=model_0.state_dict(), f=MODEL_SAVE_PATH)\n"
   ]
  },
  {
   "attachments": {},
   "cell_type": "markdown",
   "metadata": {},
   "source": [
    "### Loading a saved PyTorch model\n",
    "\n",
    "Since we saved our model's `state_dict()`, we'll create a new instance of our model class and load the saved `state_dict()` into it."
   ]
  },
  {
   "cell_type": "code",
   "execution_count": 19,
   "metadata": {},
   "outputs": [
    {
     "data": {
      "text/plain": [
       "OrderedDict([('weights', tensor([0.6990])), ('bias', tensor([0.3093]))])"
      ]
     },
     "execution_count": 19,
     "metadata": {},
     "output_type": "execute_result"
    }
   ],
   "source": [
    "# To load in as saved state_dict we have to instantiate a new isntance of our model class\n",
    "loaded_model_0 = LinearRegressionModel()\n",
    "\n",
    "# Load the asaved state  dict of model_0 (this will update jnew isntance with update paramters)\n",
    "loaded_model_0.load_state_dict(torch.load(f=MODEL_SAVE_PATH))\n",
    "loaded_model_0.state_dict()"
   ]
  },
  {
   "cell_type": "code",
   "execution_count": 20,
   "metadata": {},
   "outputs": [
    {
     "data": {
      "text/plain": [
       "tensor([[0.8685],\n",
       "        [0.8825],\n",
       "        [0.8965],\n",
       "        [0.9105],\n",
       "        [0.9245],\n",
       "        [0.9384],\n",
       "        [0.9524],\n",
       "        [0.9664],\n",
       "        [0.9804],\n",
       "        [0.9944]])"
      ]
     },
     "execution_count": 20,
     "metadata": {},
     "output_type": "execute_result"
    }
   ],
   "source": [
    "# Compare loaded model preds with original model preds\n",
    "model_0.eval()\n",
    "with torch.inference_mode():\n",
    "    y_preds = loaded_model_0(X_test)\n",
    "\n",
    "y_preds"
   ]
  },
  {
   "cell_type": "code",
   "execution_count": 21,
   "metadata": {},
   "outputs": [
    {
     "data": {
      "text/plain": [
       "tensor([[0.8685],\n",
       "        [0.8825],\n",
       "        [0.8965],\n",
       "        [0.9105],\n",
       "        [0.9245],\n",
       "        [0.9384],\n",
       "        [0.9524],\n",
       "        [0.9664],\n",
       "        [0.9804],\n",
       "        [0.9944]])"
      ]
     },
     "execution_count": 21,
     "metadata": {},
     "output_type": "execute_result"
    }
   ],
   "source": [
    "# Make some predictions with our loaded model\n",
    "loaded_model_0.eval()\n",
    "with torch.inference_mode():\n",
    "    loaded_model_preds = loaded_model_0(X_test)\n",
    "\n",
    "loaded_model_preds"
   ]
  },
  {
   "cell_type": "code",
   "execution_count": 22,
   "metadata": {},
   "outputs": [
    {
     "data": {
      "text/plain": [
       "tensor([[True],\n",
       "        [True],\n",
       "        [True],\n",
       "        [True],\n",
       "        [True],\n",
       "        [True],\n",
       "        [True],\n",
       "        [True],\n",
       "        [True],\n",
       "        [True]])"
      ]
     },
     "execution_count": 22,
     "metadata": {},
     "output_type": "execute_result"
    }
   ],
   "source": [
    "# Compare loaded model preds with original model preds\n",
    "y_preds == loaded_model_preds"
   ]
  },
  {
   "attachments": {},
   "cell_type": "markdown",
   "metadata": {},
   "source": [
    "# Putting it all together\n",
    "Let's go baclk through the steps above and see it all in one place.\n"
   ]
  },
  {
   "cell_type": "code",
   "execution_count": 23,
   "metadata": {},
   "outputs": [
    {
     "data": {
      "text/plain": [
       "'2.0.0+cu117'"
      ]
     },
     "execution_count": 23,
     "metadata": {},
     "output_type": "execute_result"
    }
   ],
   "source": [
    "import torch\n",
    "from torch import nn \n",
    "import matplotlib.pyplot as plt\n",
    "\n",
    "torch.__version__\n"
   ]
  },
  {
   "cell_type": "code",
   "execution_count": 24,
   "metadata": {},
   "outputs": [
    {
     "data": {
      "text/plain": [
       "'cuda'"
      ]
     },
     "execution_count": 24,
     "metadata": {},
     "output_type": "execute_result"
    }
   ],
   "source": [
    "# Create device-agnostic code\n",
    "device = \"cuda\" if torch.cuda.is_available() else \"cpu\"\n",
    "device"
   ]
  },
  {
   "attachments": {},
   "cell_type": "markdown",
   "metadata": {},
   "source": [
    "## 6.1 Data"
   ]
  },
  {
   "cell_type": "code",
   "execution_count": 25,
   "metadata": {},
   "outputs": [
    {
     "data": {
      "text/plain": [
       "(tensor([[0.0000],\n",
       "         [0.0200],\n",
       "         [0.0400],\n",
       "         [0.0600],\n",
       "         [0.0800],\n",
       "         [0.1000],\n",
       "         [0.1200],\n",
       "         [0.1400],\n",
       "         [0.1600],\n",
       "         [0.1800]], device='cuda:0'),\n",
       " tensor([[0.3000],\n",
       "         [0.3140],\n",
       "         [0.3280],\n",
       "         [0.3420],\n",
       "         [0.3560],\n",
       "         [0.3700],\n",
       "         [0.3840],\n",
       "         [0.3980],\n",
       "         [0.4120],\n",
       "         [0.4260]], device='cuda:0'))"
      ]
     },
     "execution_count": 25,
     "metadata": {},
     "output_type": "execute_result"
    }
   ],
   "source": [
    "# Create  some data using linear regresion formula y = weight * X + bias\n",
    "weight = 0.7\n",
    "bias = 0.3\n",
    "\n",
    "X = torch.arange(0, 1, 0.02).unsqueeze(dim=1).to(device)\n",
    "y = weight * X + bias\n",
    "\n",
    "X[:10], y[:10]\n"
   ]
  },
  {
   "cell_type": "code",
   "execution_count": 26,
   "metadata": {},
   "outputs": [
    {
     "data": {
      "text/plain": [
       "(40, 10, 40, 10)"
      ]
     },
     "execution_count": 26,
     "metadata": {},
     "output_type": "execute_result"
    }
   ],
   "source": [
    "# Split data\n",
    "train_split = int(len(X) * 0.8)\n",
    "X_train, y_train = X[:train_split], y[:train_split]\n",
    "X_test, y_test = X[train_split:], y[train_split:]\n",
    "len(X_train), len(X_test), len(y_train), len(y_test)"
   ]
  },
  {
   "cell_type": "code",
   "execution_count": 27,
   "metadata": {},
   "outputs": [
    {
     "data": {
      "image/png": "[encoded data removed]",
      "text/plain": [
       "<Figure size 600x300 with 1 Axes>"
      ]
     },
     "metadata": {},
     "output_type": "display_data"
    }
   ],
   "source": [
    "plot_predictions(X_train.cpu(), y_train.cpu(), X_test.cpu(), y_test.cpu())"
   ]
  },
  {
   "attachments": {},
   "cell_type": "markdown",
   "metadata": {},
   "source": [
    "## 6.2 Building pytorch linear model\n"
   ]
  },
  {
   "cell_type": "code",
   "execution_count": 28,
   "metadata": {},
   "outputs": [
    {
     "data": {
      "text/plain": [
       "(LinearRegressionModelV2(\n",
       "   (linear_layer): Linear(in_features=1, out_features=1, bias=True)\n",
       " ),\n",
       " OrderedDict([('linear_layer.weight', tensor([[0.7645]], device='cuda:0')),\n",
       "              ('linear_layer.bias', tensor([0.8300], device='cuda:0'))]))"
      ]
     },
     "execution_count": 28,
     "metadata": {},
     "output_type": "execute_result"
    }
   ],
   "source": [
    "class LinearRegressionModelV2(nn.Module):\n",
    "    def __init__(self):\n",
    "        super().__init__()\n",
    "\n",
    "        # Use nn.Linear() for creating the model parameters /\n",
    "        # also called: linear transform, probing layer, fully connected layer, dense layer\n",
    "        self.linear_layer = nn.Linear(in_features=1,\n",
    "                                        out_features=1)\n",
    "\n",
    "\n",
    "    def forward(self, x: torch.Tensor) -> torch.Tensor:\n",
    "        return self.linear_layer(x)\n",
    "    \n",
    "# Set the manual seed\n",
    "torch.manual_seed(42)\n",
    "model_1 = LinearRegressionModelV2().to(device)    \n",
    "model_1, model_1.state_dict()"
   ]
  },
  {
   "attachments": {},
   "cell_type": "markdown",
   "metadata": {},
   "source": [
    "### 6.3 Training the model\n",
    "\n",
    "For training we need:\n",
    "* Loss function\n",
    "* Optimizer\n",
    "* Training loop\n",
    "* Testing loop"
   ]
  },
  {
   "cell_type": "code",
   "execution_count": 29,
   "metadata": {},
   "outputs": [],
   "source": [
    "# Setup a loss function\n",
    "loss_fn = nn.L1Loss()\n",
    "# Setup an optimizer\n",
    "optimizer = torch.optim.SGD(params=model_1.parameters(), lr=0.01)\n"
   ]
  },
  {
   "cell_type": "code",
   "execution_count": 30,
   "metadata": {},
   "outputs": [
    {
     "name": "stdout",
     "output_type": "stream",
     "text": [
      "Epoch: 0 | Train loss: 0.5551779866218567 | Test loss: 0.5739762187004089\n",
      "Epoch: 10 | Train loss: 0.439968079328537 | Test loss: 0.4392664134502411\n",
      "Epoch: 20 | Train loss: 0.3247582018375397 | Test loss: 0.30455657839775085\n",
      "Epoch: 30 | Train loss: 0.20954833924770355 | Test loss: 0.16984669864177704\n",
      "Epoch: 40 | Train loss: 0.09433845430612564 | Test loss: 0.03513690456748009\n",
      "Epoch: 50 | Train loss: 0.023886388167738914 | Test loss: 0.04784907028079033\n",
      "Epoch: 60 | Train loss: 0.019956795498728752 | Test loss: 0.045803118497133255\n",
      "Epoch: 70 | Train loss: 0.016517987474799156 | Test loss: 0.037530567497015\n",
      "Epoch: 80 | Train loss: 0.013089174404740334 | Test loss: 0.02994490973651409\n",
      "Epoch: 90 | Train loss: 0.009653178043663502 | Test loss: 0.02167237363755703\n",
      "Epoch: 100 | Train loss: 0.006215683650225401 | Test loss: 0.014086711220443249\n",
      "Epoch: 110 | Train loss: 0.00278724217787385 | Test loss: 0.005814164876937866\n",
      "Epoch: 120 | Train loss: 0.0012645035749301314 | Test loss: 0.013801801018416882\n",
      "Epoch: 130 | Train loss: 0.0012645035749301314 | Test loss: 0.013801801018416882\n",
      "Epoch: 140 | Train loss: 0.0012645035749301314 | Test loss: 0.013801801018416882\n",
      "Epoch: 150 | Train loss: 0.0012645035749301314 | Test loss: 0.013801801018416882\n",
      "Epoch: 160 | Train loss: 0.0012645035749301314 | Test loss: 0.013801801018416882\n",
      "Epoch: 170 | Train loss: 0.0012645035749301314 | Test loss: 0.013801801018416882\n",
      "Epoch: 180 | Train loss: 0.0012645035749301314 | Test loss: 0.013801801018416882\n",
      "Epoch: 190 | Train loss: 0.0012645035749301314 | Test loss: 0.013801801018416882\n"
     ]
    }
   ],
   "source": [
    "# Training loop\n",
    "torch.manual_seed(42)\n",
    "\n",
    "epochs = 200\n",
    "\n",
    "for epoch in range(epochs):\n",
    "    model_1.train()\n",
    "    # 1. Forward pass\n",
    "    y_pred = model_1(X_train)\n",
    "    # 2. Calculate loss\n",
    "    loss = loss_fn(y_pred, y_train)\n",
    "    # 3. Zero the gradients\n",
    "    optimizer.zero_grad()\n",
    "    # 4. Backpropagation\n",
    "    loss.backward()\n",
    "    # 5. Step the optimizer\n",
    "    optimizer.step()\n",
    "\n",
    "    ## Testing\n",
    "    model_1.eval()\n",
    "    with torch.inference_mode():\n",
    "        test_pred = model_1(X_test)\n",
    "        test_loss = loss_fn(test_pred, y_test)\n",
    "\n",
    "    if epoch % 10 == 0:\n",
    "        print(f\"Epoch: {epoch} | Train loss: {loss} | Test loss: {test_loss}\")"
   ]
  },
  {
   "cell_type": "code",
   "execution_count": 31,
   "metadata": {},
   "outputs": [
    {
     "data": {
      "text/plain": [
       "OrderedDict([('linear_layer.weight', tensor([[0.6968]], device='cuda:0')),\n",
       "             ('linear_layer.bias', tensor([0.3025], device='cuda:0'))])"
      ]
     },
     "execution_count": 31,
     "metadata": {},
     "output_type": "execute_result"
    }
   ],
   "source": [
    "model_1.state_dict()"
   ]
  },
  {
   "attachments": {},
   "cell_type": "markdown",
   "metadata": {},
   "source": [
    "### 6.4 Making and evaluating predictions"
   ]
  },
  {
   "cell_type": "code",
   "execution_count": 32,
   "metadata": {},
   "outputs": [
    {
     "data": {
      "text/plain": [
       "tensor([[0.8600],\n",
       "        [0.8739],\n",
       "        [0.8878],\n",
       "        [0.9018],\n",
       "        [0.9157],\n",
       "        [0.9296],\n",
       "        [0.9436],\n",
       "        [0.9575],\n",
       "        [0.9714],\n",
       "        [0.9854]], device='cuda:0')"
      ]
     },
     "execution_count": 32,
     "metadata": {},
     "output_type": "execute_result"
    }
   ],
   "source": [
    "# Turn model into eval mode\n",
    "model_1.eval()\n",
    "\n",
    "# Make predictions on the test data\n",
    "with torch.inference_mode():\n",
    "    y_preds = model_1(X_test)\n",
    "y_preds\n"
   ]
  },
  {
   "cell_type": "code",
   "execution_count": 33,
   "metadata": {},
   "outputs": [
    {
     "data": {
      "image/png": "[encoded data removed]",
      "text/plain": [
       "<Figure size 600x300 with 1 Axes>"
      ]
     },
     "metadata": {},
     "output_type": "display_data"
    }
   ],
   "source": [
    "# Check out our model predictions\n",
    "plot_predictions(X_train.cpu(), y_train.cpu(), X_test.cpu(), y_test.cpu(), y_preds.cpu())"
   ]
  },
  {
   "attachments": {},
   "cell_type": "markdown",
   "metadata": {},
   "source": [
    "### 6.5 Saving and loading a model"
   ]
  },
  {
   "cell_type": "code",
   "execution_count": 34,
   "metadata": {},
   "outputs": [],
   "source": [
    "from pathlib import Path\n",
    "\n",
    "# 1. Create models directory\n",
    "MODEL_PATH = Path(\"../models\")  \n",
    "MODEL_PATH.mkdir(parents=True, exist_ok=True)\n",
    "\n",
    "# 2. Create model save path\n",
    "MODEL_NAME = \"01_pytorch_workflow_model_1.pth\"\n",
    "MODEL_SAVE_PATH = MODEL_PATH / MODEL_NAME\n",
    "\n",
    "torch.save(obj=model_1.state_dict(), f=MODEL_SAVE_PATH)\n"
   ]
  },
  {
   "cell_type": "code",
   "execution_count": 35,
   "metadata": {},
   "outputs": [
    {
     "data": {
      "text/plain": [
       "LinearRegressionModelV2(\n",
       "  (linear_layer): Linear(in_features=1, out_features=1, bias=True)\n",
       ")"
      ]
     },
     "execution_count": 35,
     "metadata": {},
     "output_type": "execute_result"
    }
   ],
   "source": [
    "# Load in the saved model\n",
    "loaded_model_1 = LinearRegressionModelV2()\n",
    "loaded_model_1.load_state_dict(torch.load(f=MODEL_SAVE_PATH))\n",
    "loaded_model_1.to(device)"
   ]
  },
  {
   "cell_type": "code",
   "execution_count": 37,
   "metadata": {},
   "outputs": [
    {
     "data": {
      "text/plain": [
       "tensor([[True],\n",
       "        [True],\n",
       "        [True],\n",
       "        [True],\n",
       "        [True],\n",
       "        [True],\n",
       "        [True],\n",
       "        [True],\n",
       "        [True],\n",
       "        [True]], device='cuda:0')"
      ]
     },
     "execution_count": 37,
     "metadata": {},
     "output_type": "execute_result"
    }
   ],
   "source": [
    "loaded_model_1.eval()\n",
    "with torch.inference_mode():\n",
    "    loaded_model_1_preds = loaded_model_1(X_test)\n",
    "y_preds == loaded_model_1_preds"
   ]
  },
  {
   "cell_type": "markdown",
   "metadata": {},
   "source": []
  }
 ],
 "metadata": {
  "kernelspec": {
   "display_name": "venv",
   "language": "python",
   "name": "python3"
  },
  "language_info": {
   "codemirror_mode": {
    "name": "ipython",
    "version": 3
   },
   "file_extension": ".py",
   "mimetype": "text/x-python",
   "name": "python",
   "nbconvert_exporter": "python",
   "pygments_lexer": "ipython3",
   "version": "3.11.3"
  },
  "orig_nbformat": 4,
  "vscode": {
   "interpreter": {
    "hash": "9b49d797dec0990c5564b9c0e531509d34e83db8bb88be87c7b9e6822e437c2c"
   }
  }
 },
 "nbformat": 4,
 "nbformat_minor": 2
}
